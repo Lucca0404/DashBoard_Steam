#Tratamento de valores nulos
df["Classificacao_indicativa"].fillna("Indefinido", inplace=True) #definir valores qualitativos como indefinidos
df["Desenvolvedora"].fillna("Indefinida", inplace=True) #definir valores qualitativos como indefinidos

#Nos jogos que não temos nomes, ano de lançamento e publicadora vamos apenas dropar
df.dropna(subset="Nome", inplace=True)
df.dropna(subset="Ano_lancamento", inplace=True)
df.dropna(subset="Publicadora", inplace=True)

#Criaremos um df apenas para explorar as notas dos jogos
df_para_notas = df.copy()
df_para_notas.dropna(subset="Numero_usuarios", inplace=True)
df_para_notas.dropna(subset="Numero_criticos", inplace=True)

#Como criamos um df apenas para as notas, podemos substiruir os valores nulos no df orginal por valores sem significado. O objetivo é utilizar apenas o df_para_notas quando formos lidar com esses tipos de dado

df["Nota_critica"].fillna("0", inplace=True) 
df["Numero_criticos"].fillna("0", inplace=True) 
df["Nota_usuarios"].fillna("0", inplace=True) 
df["Numero_usuarios"].fillna("0", inplace=True)
